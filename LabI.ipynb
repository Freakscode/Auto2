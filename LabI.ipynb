{
 "cells": [
  {
   "cell_type": "markdown",
   "source": [
    "# Primer Punto:\n",
    "\n",
    "(20%) Implemente una función que dado un vector X y un número de vecinos K, sea capaz de calcular la distancia euclidiana del vector a todos los puntos del espacio de representación y retornar al usuario la posición de los N puntos más cercanos. (Haga uso de la base de datos iris para corroborar el funcionamiento de su función.)\n",
    "\n",
    "Con la línea de código from main import * se pueden usar todos los recursos existentes en el archivo de Funciones.py en el modelo del archivo Laboratorio_I.ipynb; Todo lo anterior con la finalidad de tener un código más legible y mejor gestión de la memoria."
   ],
   "metadata": {
    "collapsed": false,
    "pycharm": {
     "name": "#%% md\n"
    }
   }
  },
  {
   "cell_type": "code",
   "execution_count": 1,
   "outputs": [
    {
     "name": "stdout",
     "output_type": "stream",
     "text": [
      "Tamaño de la matriz (150, 4), Categorías ['setosa' 'versicolor' 'virginica'], Atributos ['sepal length (cm)', 'sepal width (cm)', 'petal length (cm)', 'petal width (cm)']\n"
     ]
    },
    {
     "data": {
      "text/plain": "   sepal length (cm)  sepal width (cm)  petal length (cm)  petal width (cm)  \\\n0                5.1               3.5                1.4               0.2   \n1                4.9               3.0                1.4               0.2   \n2                4.7               3.2                1.3               0.2   \n3                4.6               3.1                1.5               0.2   \n4                5.0               3.6                1.4               0.2   \n5                5.4               3.9                1.7               0.4   \n6                4.6               3.4                1.4               0.3   \n7                5.0               3.4                1.5               0.2   \n8                4.4               2.9                1.4               0.2   \n9                4.9               3.1                1.5               0.1   \n\n   Especies  \n0       0.0  \n1       0.0  \n2       0.0  \n3       0.0  \n4       0.0  \n5       0.0  \n6       0.0  \n7       0.0  \n8       0.0  \n9       0.0  ",
      "text/html": "<div>\n<style scoped>\n    .dataframe tbody tr th:only-of-type {\n        vertical-align: middle;\n    }\n\n    .dataframe tbody tr th {\n        vertical-align: top;\n    }\n\n    .dataframe thead th {\n        text-align: right;\n    }\n</style>\n<table border=\"1\" class=\"dataframe\">\n  <thead>\n    <tr style=\"text-align: right;\">\n      <th></th>\n      <th>sepal length (cm)</th>\n      <th>sepal width (cm)</th>\n      <th>petal length (cm)</th>\n      <th>petal width (cm)</th>\n      <th>Especies</th>\n    </tr>\n  </thead>\n  <tbody>\n    <tr>\n      <th>0</th>\n      <td>5.1</td>\n      <td>3.5</td>\n      <td>1.4</td>\n      <td>0.2</td>\n      <td>0.0</td>\n    </tr>\n    <tr>\n      <th>1</th>\n      <td>4.9</td>\n      <td>3.0</td>\n      <td>1.4</td>\n      <td>0.2</td>\n      <td>0.0</td>\n    </tr>\n    <tr>\n      <th>2</th>\n      <td>4.7</td>\n      <td>3.2</td>\n      <td>1.3</td>\n      <td>0.2</td>\n      <td>0.0</td>\n    </tr>\n    <tr>\n      <th>3</th>\n      <td>4.6</td>\n      <td>3.1</td>\n      <td>1.5</td>\n      <td>0.2</td>\n      <td>0.0</td>\n    </tr>\n    <tr>\n      <th>4</th>\n      <td>5.0</td>\n      <td>3.6</td>\n      <td>1.4</td>\n      <td>0.2</td>\n      <td>0.0</td>\n    </tr>\n    <tr>\n      <th>5</th>\n      <td>5.4</td>\n      <td>3.9</td>\n      <td>1.7</td>\n      <td>0.4</td>\n      <td>0.0</td>\n    </tr>\n    <tr>\n      <th>6</th>\n      <td>4.6</td>\n      <td>3.4</td>\n      <td>1.4</td>\n      <td>0.3</td>\n      <td>0.0</td>\n    </tr>\n    <tr>\n      <th>7</th>\n      <td>5.0</td>\n      <td>3.4</td>\n      <td>1.5</td>\n      <td>0.2</td>\n      <td>0.0</td>\n    </tr>\n    <tr>\n      <th>8</th>\n      <td>4.4</td>\n      <td>2.9</td>\n      <td>1.4</td>\n      <td>0.2</td>\n      <td>0.0</td>\n    </tr>\n    <tr>\n      <th>9</th>\n      <td>4.9</td>\n      <td>3.1</td>\n      <td>1.5</td>\n      <td>0.1</td>\n      <td>0.0</td>\n    </tr>\n  </tbody>\n</table>\n</div>"
     },
     "execution_count": 1,
     "metadata": {},
     "output_type": "execute_result"
    }
   ],
   "source": [
    "from main import *\n",
    "from sklearn import datasets\n",
    "import seaborn as sns\n",
    "import matplotlib.pyplot as plt\n",
    "from sklearn.model_selection import train_test_split, KFold\n",
    "from sklearn.preprocessing import Normalizer\n",
    "\n",
    "#Importar la base de datos:\n",
    "iris_ds = datasets.load_iris()\n",
    "\n",
    "#Reconocimiento de la base de datos:\n",
    "print(f'Tamaño de la matriz {iris_ds.data.shape},'\n",
    "      f' Categorías {iris_ds.target_names},'\n",
    "      f' Atributos {iris_ds.feature_names}')\n",
    "\n",
    "#Conversión a DataFrame\n",
    "iris_df = pd.DataFrame(data=np.c_[iris_ds['data'], iris_ds['target']],\n",
    "                       columns=iris_ds['feature_names']+['Especies'])\n",
    "iris_df.head(10)"
   ],
   "metadata": {
    "collapsed": false,
    "pycharm": {
     "name": "#%%\n"
    }
   }
  },
  {
   "cell_type": "markdown",
   "source": [
    "Para el contexto de esta base de datos es necesario entender que el sepal o sépalo de una flor es la cápsula inicial que protege los demás elementos de la flor antes de que esta florezca, del mismo modo también está el pétalo, que forma la corola de la flor (las hojas con colores bonitos y llamativos característicos de cualquier flor).\n",
    "\n",
    "![Partes de una flor (las que nos interesan)](https://i.ytimg.com/vi/GYBko-B13hY/maxresdefault.jpg)"
   ],
   "metadata": {
    "collapsed": false,
    "pycharm": {
     "name": "#%% md\n"
    }
   }
  },
  {
   "cell_type": "markdown",
   "source": [
    "# Exploración inicial de datos:\n",
    "Para esta sección lo que se hace es hacer una revisión tanto gráfica como analítica de los elementos que están relacionados en la base de datos"
   ],
   "metadata": {
    "collapsed": false,
    "pycharm": {
     "name": "#%% md\n"
    }
   }
  },
  {
   "cell_type": "markdown",
   "source": [
    "Para el scope de este primer punto solo necesitaremos 2 características del DataFrame, se elegirán Virginica y Versicolor"
   ],
   "metadata": {
    "collapsed": false,
    "pycharm": {
     "name": "#%% md\n"
    }
   }
  },
  {
   "cell_type": "markdown",
   "source": [
    "# Exploración inicial de datos:\n",
    "Para esta sección lo que se hace es hacer una revisión tanto gráfica como analítica de los elementos que están relacionados en la base de datos"
   ],
   "metadata": {
    "collapsed": false,
    "pycharm": {
     "name": "#%% md\n"
    }
   }
  },
  {
   "cell_type": "code",
   "execution_count": 5,
   "outputs": [
    {
     "data": {
      "text/plain": "       sepal length (cm)  sepal width (cm)  petal length (cm)  \\\ncount         150.000000        150.000000         150.000000   \nmean            5.843333          3.057333           3.758000   \nstd             0.828066          0.435866           1.765298   \nmin             4.300000          2.000000           1.000000   \n25%             5.100000          2.800000           1.600000   \n50%             5.800000          3.000000           4.350000   \n75%             6.400000          3.300000           5.100000   \nmax             7.900000          4.400000           6.900000   \n\n       petal width (cm)    Especies  \ncount        150.000000  150.000000  \nmean           1.199333    1.000000  \nstd            0.762238    0.819232  \nmin            0.100000    0.000000  \n25%            0.300000    0.000000  \n50%            1.300000    1.000000  \n75%            1.800000    2.000000  \nmax            2.500000    2.000000  ",
      "text/html": "<div>\n<style scoped>\n    .dataframe tbody tr th:only-of-type {\n        vertical-align: middle;\n    }\n\n    .dataframe tbody tr th {\n        vertical-align: top;\n    }\n\n    .dataframe thead th {\n        text-align: right;\n    }\n</style>\n<table border=\"1\" class=\"dataframe\">\n  <thead>\n    <tr style=\"text-align: right;\">\n      <th></th>\n      <th>sepal length (cm)</th>\n      <th>sepal width (cm)</th>\n      <th>petal length (cm)</th>\n      <th>petal width (cm)</th>\n      <th>Especies</th>\n    </tr>\n  </thead>\n  <tbody>\n    <tr>\n      <th>count</th>\n      <td>150.000000</td>\n      <td>150.000000</td>\n      <td>150.000000</td>\n      <td>150.000000</td>\n      <td>150.000000</td>\n    </tr>\n    <tr>\n      <th>mean</th>\n      <td>5.843333</td>\n      <td>3.057333</td>\n      <td>3.758000</td>\n      <td>1.199333</td>\n      <td>1.000000</td>\n    </tr>\n    <tr>\n      <th>std</th>\n      <td>0.828066</td>\n      <td>0.435866</td>\n      <td>1.765298</td>\n      <td>0.762238</td>\n      <td>0.819232</td>\n    </tr>\n    <tr>\n      <th>min</th>\n      <td>4.300000</td>\n      <td>2.000000</td>\n      <td>1.000000</td>\n      <td>0.100000</td>\n      <td>0.000000</td>\n    </tr>\n    <tr>\n      <th>25%</th>\n      <td>5.100000</td>\n      <td>2.800000</td>\n      <td>1.600000</td>\n      <td>0.300000</td>\n      <td>0.000000</td>\n    </tr>\n    <tr>\n      <th>50%</th>\n      <td>5.800000</td>\n      <td>3.000000</td>\n      <td>4.350000</td>\n      <td>1.300000</td>\n      <td>1.000000</td>\n    </tr>\n    <tr>\n      <th>75%</th>\n      <td>6.400000</td>\n      <td>3.300000</td>\n      <td>5.100000</td>\n      <td>1.800000</td>\n      <td>2.000000</td>\n    </tr>\n    <tr>\n      <th>max</th>\n      <td>7.900000</td>\n      <td>4.400000</td>\n      <td>6.900000</td>\n      <td>2.500000</td>\n      <td>2.000000</td>\n    </tr>\n  </tbody>\n</table>\n</div>"
     },
     "execution_count": 5,
     "metadata": {},
     "output_type": "execute_result"
    }
   ],
   "source": [
    "#Descripción de los datos en iris_df:\n",
    "iris_df.describe()"
   ],
   "metadata": {
    "collapsed": false,
    "pycharm": {
     "name": "#%%\n"
    }
   }
  },
  {
   "cell_type": "code",
   "execution_count": 6,
   "outputs": [
    {
     "data": {
      "text/plain": "<seaborn.axisgrid.PairGrid at 0x1c852c30e50>"
     },
     "execution_count": 6,
     "metadata": {},
     "output_type": "execute_result"
    }
   ],
   "source": [
    "#Graficar los datos con seaborn:\n",
    "spec = {0:'Setosa', 1:'Versicolor', 2:'Virginica'}\n",
    "sns.pairplot(iris_df.replace({'Especies':spec}), hue='Especies')"
   ],
   "metadata": {
    "collapsed": false,
    "pycharm": {
     "name": "#%%\n"
    }
   }
  },
  {
   "cell_type": "markdown",
   "source": [
    "Para el scope de este primer punto solo necesitaremos 2 características del DataFrame, se elegirán Virginica y Versicolor"
   ],
   "metadata": {
    "collapsed": false,
    "pycharm": {
     "name": "#%% md\n"
    }
   }
  },
  {
   "cell_type": "code",
   "execution_count": 7,
   "outputs": [],
   "source": [
    "caract = ['petal length (cm)', 'petal width (cm)']\n",
    "X = iris_df.loc[:, caract]\n",
    "y = iris_df.loc[:, ['Especies']]\n",
    "X_train, X_test, y_train, y_test = train_test_split(X, y, test_size=0.3)\n",
    "\n",
    "#Normalizar\n",
    "scaler = Normalizer().fit(X_train)\n",
    "X_train = scaler.transform(X_train)\n",
    "X_test = scaler.transform(X_test)\n"
   ],
   "metadata": {
    "collapsed": false,
    "pycharm": {
     "name": "#%%\n"
    }
   }
  },
  {
   "cell_type": "code",
   "execution_count": 8,
   "outputs": [
    {
     "name": "stdout",
     "output_type": "stream",
     "text": [
      "Valor del punto de prueba: \"petal length (cm): 0.9922778767136676\" \"petal width (cm): 0.12403473458920845\" Sus vecinos más cercanos son (ID | Distancia entre los puntos)     dist\n",
      "39   0.0\n",
      "25   0.0\n",
      "72   0.0\n",
      "Valor del punto de prueba: \"petal length (cm): 0.9912279006826347\" \"petal width (cm): 0.13216372009101796\" Sus vecinos más cercanos son (ID | Distancia entre los puntos)     dist\n",
      "70   0.0\n",
      "38   0.0\n",
      "64   0.0\n",
      "Valor del punto de prueba: \"petal length (cm): 0.9422146902791405\" \"petal width (cm): 0.33500966765480555\" Sus vecinos más cercanos son (ID | Distancia entre los puntos)         dist\n",
      "55  0.001408\n",
      "97  0.002323\n",
      "93  0.002603\n",
      "Valor del punto de prueba: \"petal length (cm): 0.9805806756909202\" \"petal width (cm): 0.19611613513818402\" Sus vecinos más cercanos son (ID | Distancia entre los puntos)             dist\n",
      "47  1.110223e-16\n",
      "45  1.010062e-02\n",
      "66  1.369767e-02\n",
      "Valor del punto de prueba: \"petal length (cm): 0.9863939238321437\" \"petal width (cm): 0.16439898730535732\" Sus vecinos más cercanos son (ID | Distancia entre los puntos)         dist\n",
      "61  0.000000\n",
      "78  0.009523\n",
      "92  0.012499\n",
      "Valor del punto de prueba: \"petal length (cm): 0.9544799780350297\" \"petal width (cm): 0.2982749931359468\" Sus vecinos más cercanos son (ID | Distancia entre los puntos)         dist\n",
      "96  0.000934\n",
      "19  0.001116\n",
      "29  0.002714\n",
      "Valor del punto de prueba: \"petal length (cm): 0.9230769230769231\" \"petal width (cm): 0.38461538461538464\" Sus vecinos más cercanos son (ID | Distancia entre los puntos)         dist\n",
      "23  0.005834\n",
      "48  0.007864\n",
      "33  0.010101\n",
      "Valor del punto de prueba: \"petal length (cm): 0.9899494936611666\" \"petal width (cm): 0.14142135623730953\" Sus vecinos más cercanos son (ID | Distancia entre los puntos)     dist\n",
      "34   0.0\n",
      "98   0.0\n",
      "65   0.0\n",
      "Valor del punto de prueba: \"petal length (cm): 0.9912279006826347\" \"petal width (cm): 0.13216372009101796\" Sus vecinos más cercanos son (ID | Distancia entre los puntos)     dist\n",
      "70   0.0\n",
      "38   0.0\n",
      "64   0.0\n",
      "Valor del punto de prueba: \"petal length (cm): 0.9899494936611666\" \"petal width (cm): 0.14142135623730953\" Sus vecinos más cercanos son (ID | Distancia entre los puntos)     dist\n",
      "34   0.0\n",
      "98   0.0\n",
      "65   0.0\n",
      "Valor del punto de prueba: \"petal length (cm): 0.93834311681711\" \"petal width (cm): 0.34570535882735637\" Sus vecinos más cercanos son (ID | Distancia entre los puntos)        dist\n",
      "3   0.00363\n",
      "57  0.00578\n",
      "2   0.00578\n",
      "Valor del punto de prueba: \"petal length (cm): 0.9191450300180579\" \"petal width (cm): 0.3939192985791677\" Sus vecinos más cercanos son (ID | Distancia entre los puntos)          dist\n",
      "33   0.000000\n",
      "48   0.002237\n",
      "103  0.008439\n",
      "Valor del punto de prueba: \"petal length (cm): 0.9173450110960782\" \"petal width (cm): 0.39809311802282643\" Sus vecinos más cercanos son (ID | Distancia entre los puntos)          dist\n",
      "103  0.003893\n",
      "33   0.004545\n",
      "48   0.006783\n",
      "Valor del punto de prueba: \"petal length (cm): 0.997458699830735\" \"petal width (cm): 0.07124704998790965\" Sus vecinos más cercanos son (ID | Distancia entre los puntos)          dist\n",
      "11   0.000000\n",
      "104  0.004739\n",
      "50   0.033568\n",
      "Valor del punto de prueba: \"petal length (cm): 0.9510340687309481\" \"petal width (cm): 0.30908607233755814\" Sus vecinos más cercanos son (ID | Distancia entre los puntos)         dist\n",
      "94  0.000000\n",
      "15  0.000000\n",
      "54  0.000983\n",
      "Valor del punto de prueba: \"petal length (cm): 0.9578262852211513\" \"petal width (cm): 0.2873478855663454\" Sus vecinos más cercanos son (ID | Distancia entre los puntos)         dist\n",
      "7    0.00000\n",
      "88   0.00000\n",
      "102  0.00137\n",
      "Valor del punto de prueba: \"petal length (cm): 0.9899494936611666\" \"petal width (cm): 0.14142135623730953\" Sus vecinos más cercanos son (ID | Distancia entre los puntos)     dist\n",
      "34   0.0\n",
      "98   0.0\n",
      "65   0.0\n",
      "Valor del punto de prueba: \"petal length (cm): 0.9421026317177149\" \"petal width (cm): 0.3353246655266443\" Sus vecinos más cercanos son (ID | Distancia entre los puntos)         dist\n",
      "55  0.001074\n",
      "93  0.002269\n",
      "97  0.002657\n",
      "Valor del punto de prueba: \"petal length (cm): 0.9778024140774094\" \"petal width (cm): 0.20952908873087348\" Sus vecinos más cercanos son (ID | Distancia entre los puntos)         dist\n",
      "66  0.000000\n",
      "46  0.000000\n",
      "45  0.003597\n",
      "Valor del punto de prueba: \"petal length (cm): 0.9561999555074316\" \"petal width (cm): 0.2927142720941117\" Sus vecinos más cercanos son (ID | Distancia entre los puntos)         dist\n",
      "22  0.000000\n",
      "84  0.001435\n",
      "73  0.001623\n",
      "Valor del punto de prueba: \"petal length (cm): 0.9486832980505138\" \"petal width (cm): 0.31622776601683794\" Sus vecinos más cercanos son (ID | Distancia entre los puntos)     dist\n",
      "81   0.0\n",
      "86   0.0\n",
      "18   0.0\n",
      "Valor del punto de prueba: \"petal length (cm): 0.9258476436951986\" \"petal width (cm): 0.37789699742661165\" Sus vecinos más cercanos son (ID | Distancia entre los puntos)         dist\n",
      "23  0.001433\n",
      "90  0.003996\n",
      "28  0.007017\n",
      "Valor del punto de prueba: \"petal length (cm): 0.9354720936668214\" \"petal width (cm): 0.35340056871857695\" Sus vecinos más cercanos son (ID | Distancia entre los puntos)         dist\n",
      "44  0.001340\n",
      "69  0.001943\n",
      "12  0.002433\n",
      "Valor del punto de prueba: \"petal length (cm): 0.9912279006826347\" \"petal width (cm): 0.13216372009101796\" Sus vecinos más cercanos son (ID | Distancia entre los puntos)     dist\n",
      "70   0.0\n",
      "38   0.0\n",
      "64   0.0\n",
      "Valor del punto de prueba: \"petal length (cm): 0.9615239476408232\" \"petal width (cm): 0.27472112789737807\" Sus vecinos más cercanos son (ID | Distancia entre los puntos)             dist\n",
      "67  0.000000e+00\n",
      "4   0.000000e+00\n",
      "21  5.551115e-17\n",
      "Valor del punto de prueba: \"petal length (cm): 0.9557790087219501\" \"petal width (cm): 0.2940858488375231\" Sus vecinos más cercanos son (ID | Distancia entre los puntos)             dist\n",
      "84  1.241267e-16\n",
      "22  1.434719e-03\n",
      "68  1.672239e-03\n",
      "Valor del punto de prueba: \"petal length (cm): 0.9386697595167284\" \"petal width (cm): 0.3448174626796145\" Sus vecinos más cercanos son (ID | Distancia entre los puntos)         dist\n",
      "3   0.004576\n",
      "17  0.005505\n",
      "57  0.006726\n",
      "Valor del punto de prueba: \"petal length (cm): 0.9607141828411424\" \"petal width (cm): 0.2775396528207745\" Sus vecinos más cercanos son (ID | Distancia entre los puntos)         dist\n",
      "56  0.000540\n",
      "1   0.002562\n",
      "67  0.002933\n",
      "Valor del punto de prueba: \"petal length (cm): 0.995893206467704\" \"petal width (cm): 0.09053574604251853\" Sus vecinos más cercanos son (ID | Distancia entre los puntos)          dist\n",
      "50   0.014217\n",
      "11   0.019352\n",
      "104  0.024091\n",
      "Valor del punto de prueba: \"petal length (cm): 0.9370821148326491\" \"petal width (cm): 0.34910902317294773\" Sus vecinos más cercanos son (ID | Distancia entre los puntos)         dist\n",
      "3   0.000000\n",
      "57  0.002151\n",
      "2   0.002151\n",
      "Valor del punto de prueba: \"petal length (cm): 0.9590177080589004\" \"petal width (cm): 0.28334614101740235\" Sus vecinos más cercanos son (ID | Distancia entre los puntos)         dist\n",
      "71  0.001230\n",
      "76  0.001230\n",
      "24  0.002222\n",
      "Valor del punto de prueba: \"petal length (cm): 0.9356972863937919\" \"petal width (cm): 0.3528038948697904\" Sus vecinos más cercanos son (ID | Distancia entre los puntos)         dist\n",
      "12  0.001795\n",
      "57  0.001795\n",
      "2   0.001795\n",
      "Valor del punto de prueba: \"petal length (cm): 0.9647638212377322\" \"petal width (cm): 0.26311740579210874\" Sus vecinos más cercanos son (ID | Distancia entre los puntos)         dist\n",
      "63  0.002288\n",
      "40  0.002915\n",
      "52  0.005650\n",
      "Valor del punto de prueba: \"petal length (cm): 0.932004671541296\" \"petal width (cm): 0.36244626115494843\" Sus vecinos más cercanos son (ID | Distancia entre los puntos)         dist\n",
      "87  0.000818\n",
      "0   0.002836\n",
      "26  0.003442\n",
      "Valor del punto de prueba: \"petal length (cm): 0.9743911956946198\" \"petal width (cm): 0.2248595066987584\" Sus vecinos más cercanos son (ID | Distancia entre los puntos)         dist\n",
      "83  0.000000\n",
      "79  0.004292\n",
      "30  0.012433\n",
      "Valor del punto de prueba: \"petal length (cm): 0.9363291775690444\" \"petal width (cm): 0.35112344158839165\" Sus vecinos más cercanos son (ID | Distancia entre los puntos)             dist\n",
      "12  5.551115e-17\n",
      "57  1.241267e-16\n",
      "2   1.241267e-16\n",
      "Valor del punto de prueba: \"petal length (cm): 0.997785157856609\" \"petal width (cm): 0.06651901052377394\" Sus vecinos más cercanos son (ID | Distancia entre los puntos)          dist\n",
      "104  0.000000\n",
      "11   0.004739\n",
      "50   0.038306\n",
      "Valor del punto de prueba: \"petal length (cm): 0.9570244044334736\" \"petal width (cm): 0.2900073952828708\" Sus vecinos más cercanos son (ID | Distancia entre los puntos)         dist\n",
      "5   0.000000\n",
      "59  0.000646\n",
      "9   0.000646\n",
      "Valor del punto de prueba: \"petal length (cm): 0.953230637699318\" \"petal width (cm): 0.30224386073393017\" Sus vecinos más cercanos son (ID | Distancia entre los puntos)         dist\n",
      "32  0.000000\n",
      "20  0.001007\n",
      "16  0.001007\n",
      "Valor del punto de prueba: \"petal length (cm): 0.9922778767136676\" \"petal width (cm): 0.12403473458920845\" Sus vecinos más cercanos son (ID | Distancia entre los puntos)     dist\n",
      "39   0.0\n",
      "25   0.0\n",
      "72   0.0\n",
      "Valor del punto de prueba: \"petal length (cm): 0.9386697595167284\" \"petal width (cm): 0.3448174626796145\" Sus vecinos más cercanos son (ID | Distancia entre los puntos)         dist\n",
      "3   0.004576\n",
      "17  0.005505\n",
      "57  0.006726\n",
      "Valor del punto de prueba: \"petal length (cm): 0.9388763158866086\" \"petal width (cm): 0.3442546491584232\" Sus vecinos más cercanos son (ID | Distancia entre los puntos)         dist\n",
      "17  0.004906\n",
      "3   0.005175\n",
      "41  0.006797\n",
      "Valor del punto de prueba: \"petal length (cm): 0.962309403107199\" \"petal width (cm): 0.27195700522594757\" Sus vecinos más cercanos son (ID | Distancia entre los puntos)         dist\n",
      "80  0.000516\n",
      "21  0.002874\n",
      "67  0.002874\n",
      "Valor del punto de prueba: \"petal length (cm): 0.955064136811237\" \"petal width (cm): 0.2963992148724529\" Sus vecinos más cercanos son (ID | Distancia entre los puntos)         dist\n",
      "68  0.000749\n",
      "29  0.000749\n",
      "96  0.001031\n",
      "Valor del punto de prueba: \"petal length (cm): 0.9467727448197126\" \"petal width (cm): 0.3219027332387023\" Sus vecinos más cercanos son (ID | Distancia entre los puntos)         dist\n",
      "49  0.000381\n",
      "81  0.005988\n",
      "86  0.005988\n"
     ]
    }
   ],
   "source": [
    "K = 3\n",
    "distancias_knn(X_train, X_test, K)"
   ],
   "metadata": {
    "collapsed": false,
    "pycharm": {
     "name": "#%%\n"
    }
   }
  },
  {
   "cell_type": "markdown",
   "source": [
    "# Segundo punto"
   ],
   "metadata": {
    "collapsed": false,
    "pycharm": {
     "name": "#%% md\n"
    }
   }
  },
  {
   "cell_type": "markdown",
   "source": [
    "(10%) Desarrolle un algoritmo que cree dos vectores aleatorios de tamaño N (ingresado por el usuario),\n",
    "donde todas sus posiciones sean de “0” o “1”. El algoritmo debe dar un resultado final que indique el\n",
    "número de posiciones en el que fueron diferentes ambos vectores."
   ],
   "metadata": {
    "collapsed": false,
    "pycharm": {
     "name": "#%% md\n"
    }
   }
  },
  {
   "cell_type": "code",
   "execution_count": 9,
   "outputs": [
    {
     "name": "stdout",
     "output_type": "stream",
     "text": [
      "Vector 1: [1 0 0 0 1] \n",
      "Vector 2: [0 0 0 1 0] \n",
      "Posiciones en las que fueron diferentes: 3.0\n"
     ]
    }
   ],
   "source": [
    "hamming_funct() # --> Función guardada en el archivo main.py"
   ],
   "metadata": {
    "collapsed": false,
    "pycharm": {
     "name": "#%%\n"
    }
   }
  },
  {
   "cell_type": "code",
   "execution_count": null,
   "outputs": [],
   "source": [],
   "metadata": {
    "collapsed": false,
    "pycharm": {
     "name": "#%%\n"
    }
   }
  }
 ],
 "metadata": {
  "kernelspec": {
   "display_name": "Python 3",
   "language": "python",
   "name": "python3"
  },
  "language_info": {
   "codemirror_mode": {
    "name": "ipython",
    "version": 2
   },
   "file_extension": ".py",
   "mimetype": "text/x-python",
   "name": "python",
   "nbconvert_exporter": "python",
   "pygments_lexer": "ipython2",
   "version": "2.7.6"
  }
 },
 "nbformat": 4,
 "nbformat_minor": 0
}