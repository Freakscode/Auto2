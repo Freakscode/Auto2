{
 "cells": [
  {
   "cell_type": "code",
   "execution_count": 1,
   "metadata": {
    "colab": {
     "base_uri": "https://localhost:8080/"
    },
    "id": "UfAh40ZdP3OK",
    "outputId": "42ec76fa-85b0-4f10-ba56-68c1e8a03a0d",
    "pycharm": {
     "name": "#%%\n"
    }
   },
   "outputs": [
    {
     "name": "stdout",
     "output_type": "stream",
     "text": [
      "[0 0 1 1 1]\n",
      "[1 1 1 1 0]\n"
     ]
    }
   ],
   "source": [
    "import numpy as np\n",
    "from scipy.spatial.distance import hamming\n",
    "n=int(input(\"Enter the value of 'n': \"))\n",
    "a=[None]*n\n",
    "b=[None]*n\n",
    "#for i in range (0,n): ; usar numpy implica menos uso computacional y mayor especificidad\n",
    "a= np.random.randint(2, size=n)\n",
    "b= np.random.randint(2, size=n)\n",
    "\n",
    "print(a)\n",
    "print(b)"
   ]
  },
  {
   "cell_type": "code",
   "execution_count": 2,
   "metadata": {
    "colab": {
     "base_uri": "https://localhost:8080/"
    },
    "id": "lS5nIy16vhst",
    "outputId": "b46db64d-0771-4329-d6a3-d977cdc09938",
    "pycharm": {
     "name": "#%%\n"
    }
   },
   "outputs": [
    {
     "name": "stdout",
     "output_type": "stream",
     "text": [
      "3.0\n"
     ]
    }
   ],
   "source": [
    "from sklearn.neighbors import DistanceMetric\n",
    "#from sklearn.metrics import hamming_loss\n",
    "#import numpy as np\n",
    "#hamming_loss(a,b)\n",
    "haming_d = hamming(a,b)*len(a)\n",
    "print(haming_d)"
   ]
  },
  {
   "cell_type": "markdown",
   "metadata": {
    "id": "QONHcQYCwgog",
    "pycharm": {
     "name": "#%% md\n"
    }
   },
   "source": [
    "La medida de Hamming es la fracción de etiquetas diferentes"
   ]
  },
  {
   "cell_type": "code",
   "execution_count": 3,
   "metadata": {
    "colab": {
     "base_uri": "https://localhost:8080/",
     "height": 130
    },
    "id": "km3Vxd333QEq",
    "outputId": "d50d7e7f-e548-4ace-af37-3103a56fa04d",
    "pycharm": {
     "name": "#%%\n"
    }
   },
   "outputs": [
    {
     "ename": "TypeError",
     "evalue": "randint() takes at least 1 positional argument (0 given)",
     "output_type": "error",
     "traceback": [
      "\u001b[1;31m---------------------------------------------------------------------------\u001b[0m",
      "\u001b[1;31mTypeError\u001b[0m                                 Traceback (most recent call last)",
      "\u001b[1;32ml:\\Automatización II\\Laboratorio\\Laboratorio\\binarios.ipynb Celda 4\u001b[0m in \u001b[0;36m<cell line: 6>\u001b[1;34m()\u001b[0m\n\u001b[0;32m      <a href='vscode-notebook-cell:/l%3A/Automatizaci%C3%B3n%20II/Laboratorio/Laboratorio/binarios.ipynb#W3sZmlsZQ%3D%3D?line=2'>3</a>\u001b[0m   x \u001b[39m=\u001b[39m np\u001b[39m.\u001b[39mrandom\u001b[39m.\u001b[39mrandint()\n\u001b[0;32m      <a href='vscode-notebook-cell:/l%3A/Automatizaci%C3%B3n%20II/Laboratorio/Laboratorio/binarios.ipynb#W3sZmlsZQ%3D%3D?line=3'>4</a>\u001b[0m   \u001b[39mprint\u001b[39m(x)\n\u001b[1;32m----> <a href='vscode-notebook-cell:/l%3A/Automatizaci%C3%B3n%20II/Laboratorio/Laboratorio/binarios.ipynb#W3sZmlsZQ%3D%3D?line=5'>6</a>\u001b[0m vecinos(\u001b[39m3\u001b[39;49m)\n",
      "\u001b[1;32ml:\\Automatización II\\Laboratorio\\Laboratorio\\binarios.ipynb Celda 4\u001b[0m in \u001b[0;36mvecinos\u001b[1;34m(x)\u001b[0m\n\u001b[0;32m      <a href='vscode-notebook-cell:/l%3A/Automatizaci%C3%B3n%20II/Laboratorio/Laboratorio/binarios.ipynb#W3sZmlsZQ%3D%3D?line=0'>1</a>\u001b[0m \u001b[39mdef\u001b[39;00m \u001b[39mvecinos\u001b[39m (x):\n\u001b[0;32m      <a href='vscode-notebook-cell:/l%3A/Automatizaci%C3%B3n%20II/Laboratorio/Laboratorio/binarios.ipynb#W3sZmlsZQ%3D%3D?line=1'>2</a>\u001b[0m   x\u001b[39m=\u001b[39m[]\n\u001b[1;32m----> <a href='vscode-notebook-cell:/l%3A/Automatizaci%C3%B3n%20II/Laboratorio/Laboratorio/binarios.ipynb#W3sZmlsZQ%3D%3D?line=2'>3</a>\u001b[0m   x \u001b[39m=\u001b[39m np\u001b[39m.\u001b[39;49mrandom\u001b[39m.\u001b[39;49mrandint()\n\u001b[0;32m      <a href='vscode-notebook-cell:/l%3A/Automatizaci%C3%B3n%20II/Laboratorio/Laboratorio/binarios.ipynb#W3sZmlsZQ%3D%3D?line=3'>4</a>\u001b[0m   \u001b[39mprint\u001b[39m(x)\n",
      "File \u001b[1;32mmtrand.pyx:646\u001b[0m, in \u001b[0;36mnumpy.random.mtrand.RandomState.randint\u001b[1;34m()\u001b[0m\n",
      "\u001b[1;31mTypeError\u001b[0m: randint() takes at least 1 positional argument (0 given)"
     ]
    }
   ],
   "source": []
  },
  {
   "cell_type": "code",
   "execution_count": null,
   "metadata": {
    "colab": {
     "base_uri": "https://localhost:8080/"
    },
    "id": "Y5Nzm_lLxWYj",
    "outputId": "b46aa72d-fa6b-41d6-cadd-b1ddb53829e3",
    "pycharm": {
     "name": "#%%\n"
    }
   },
   "outputs": [],
   "source": [
    "X = [[0], [1], [2], [3]]\n",
    "y = [0, 0, 1, 1]\n",
    "from sklearn.neighbors import KNeighborsClassifier\n",
    "neigh = KNeighborsClassifier(n_neighbors=3)\n",
    "neigh.fit(X, y)\n",
    "KNeighborsClassifier(...)\n",
    "print(neigh.predict([[1.1]]))\n",
    "print(neigh.predict_proba([[0.9]]))\n"
   ]
  },
  {
   "cell_type": "code",
   "execution_count": null,
   "metadata": {
    "id": "cDnNKxhJ7Ghp",
    "pycharm": {
     "name": "#%%\n"
    }
   },
   "outputs": [],
   "source": [
    "from sklearn.neighbors import DistanceMetric\n",
    "dist = DistanceMetric.get_metric('euclidean')\n",
    "X = [[0, 1, 2],\n",
    "         [3, 4, 5]]\n",
    "dist.pairwise(X)\n",
    "array([[ 0.        ,  5.19615242],\n",
    "       [ 5.19615242,  0.        ]])"
   ]
  },
  {
   "cell_type": "code",
   "execution_count": null,
   "metadata": {
    "id": "DnkbktmX7e3C",
    "pycharm": {
     "name": "#%%\n"
    }
   },
   "outputs": [],
   "source": [
    "ks = range(1,26)\n",
    "scores = {}\n",
    "scores_list = []\n",
    "for k in ks:\n",
    "  knn = KNeighborsClassifier(n_neighbors=k, p = 2)\n",
    "  knn.fit(X_train, y_train)\n",
    "  y_pred = knn.predict(X_test)\n",
    "  scores[k] = metrics.accuracy_score(y_test, y_pred)\n",
    "  scores_list.append(metrics.accuracy_score(y_test, y_pred))\n",
    "print(scores)\n",
    "print(scores_list)"
   ]
  },
  {
   "cell_type": "code",
   "execution_count": null,
   "metadata": {
    "collapsed": false,
    "pycharm": {
     "name": "#%%\n"
    }
   },
   "outputs": [],
   "source": [
    "#tercero\n",
    "# la base de datos boston housing  basada en los datos de vivienda de boston en 1970, esta misma es una regresion lienal por sus datos continuos (contables)"
   ]
  },
  {
   "cell_type": "code",
   "execution_count": null,
   "metadata": {
    "collapsed": false,
    "pycharm": {
     "name": "#%%\n"
    }
   },
   "outputs": [],
   "source": [
    "import numpy as np\n",
    "import pandas as pd\n",
    "import matplotlib.pyplot as plt\n",
    "import seaborn as sns\n",
    "from sklearn.datasets import load_boston\n",
    "\n",
    "boston = load_boston()\n",
    "Boston_df = pd.DataFrame(boston['data'], columns = boston['feature_names'])\n",
    "boston_dataset = load_boston()\n",
    "X=pd.DataFrame(boston_dataset['data'], columns=boston_dataset.feature_names)\n",
    "Y=boston_dataset['target']\n",
    "\n",
    "Labels = boston['target']\n",
    "names = boston['feature_names']\n",
    "\n",
    "Boston_df.head()\n",
    "Boston_df.dtypes\n",
    "Boston_df.info()\n",
    "Boston_df.shape"
   ]
  },
  {
   "cell_type": "code",
   "execution_count": null,
   "metadata": {
    "collapsed": false,
    "pycharm": {
     "name": "#%%\n"
    }
   },
   "outputs": [],
   "source": [
    "#print(Boston_df.iloc[:,[0,2,3]])"
   ]
  },
  {
   "cell_type": "code",
   "execution_count": null,
   "metadata": {
    "collapsed": false,
    "pycharm": {
     "name": "#%%\n"
    }
   },
   "outputs": [],
   "source": [
    "Boston_df['CRIM'] = boston['target']\n",
    "Boston_df.head()"
   ]
  },
  {
   "cell_type": "code",
   "execution_count": null,
   "metadata": {
    "collapsed": false,
    "pycharm": {
     "name": "#%%\n"
    }
   },
   "outputs": [],
   "source": [
    "print(Boston_df.isnull())"
   ]
  },
  {
   "cell_type": "code",
   "execution_count": null,
   "metadata": {
    "collapsed": false,
    "pycharm": {
     "name": "#%%\n"
    }
   },
   "outputs": [],
   "source": [
    "sns.boxplot(Boston_df)"
   ]
  },
  {
   "cell_type": "code",
   "execution_count": null,
   "metadata": {
    "collapsed": false,
    "pycharm": {
     "name": "#%%\n"
    }
   },
   "outputs": [],
   "source": [
    "# <<<<<< Normalizar datos >>>>>>>"
   ]
  },
  {
   "cell_type": "code",
   "execution_count": null,
   "metadata": {
    "collapsed": false,
    "pycharm": {
     "name": "#%%\n"
    }
   },
   "outputs": [],
   "source": [
    "from sklearn.preprocessing import Normalizer\n",
    "norm_boston = Normalizer().fit(X)\n",
    "norm_boston = norm_boston.transform(Boston_df)"
   ]
  },
  {
   "cell_type": "code",
   "execution_count": null,
   "metadata": {
    "collapsed": false,
    "pycharm": {
     "name": "#%%\n"
    }
   },
   "outputs": [],
   "source": [
    "sns.boxplot(norm_boston)\n",
    "\n",
    "#se normalizó para evitar la redundancia de los datos\n"
   ]
  },
  {
   "cell_type": "code",
   "execution_count": null,
   "metadata": {
    "collapsed": false,
    "pycharm": {
     "name": "#%%\n"
    }
   },
   "outputs": [],
   "source": [
    "sns.heatmap(Boston_df.corr())"
   ]
  },
  {
   "cell_type": "code",
   "execution_count": null,
   "metadata": {
    "collapsed": false,
    "pycharm": {
     "name": "#%%\n"
    }
   },
   "outputs": [],
   "source": [
    "sns.pairplot(Boston_df)"
   ]
  },
  {
   "cell_type": "code",
   "execution_count": null,
   "metadata": {
    "collapsed": false,
    "pycharm": {
     "name": "#%%\n"
    }
   },
   "outputs": [],
   "source": []
  }
 ],
 "metadata": {
  "colab": {
   "collapsed_sections": [],
   "provenance": []
  },
  "kernelspec": {
   "display_name": "Python 3.10.5 64-bit",
   "language": "python",
   "name": "python3"
  },
  "language_info": {
   "codemirror_mode": {
    "name": "ipython",
    "version": 3
   },
   "file_extension": ".py",
   "mimetype": "text/x-python",
   "name": "python",
   "nbconvert_exporter": "python",
   "pygments_lexer": "ipython3",
   "version": "3.10.5"
  },
  "vscode": {
   "interpreter": {
    "hash": "c210967ddcf415d7c8477171d76c1e8653fd37a8017f4c603faa089a36260050"
   }
  }
 },
 "nbformat": 4,
 "nbformat_minor": 0
}
